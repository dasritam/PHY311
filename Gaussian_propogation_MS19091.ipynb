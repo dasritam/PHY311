{
 "cells": [
  {
   "cell_type": "code",
   "execution_count": null,
   "metadata": {
    "scrolled": false
   },
   "outputs": [],
   "source": [
    "# Enable interactive plot\n",
    "%matplotlib notebook\n",
    "import numpy as np\n",
    "import matplotlib.pyplot as plt\n",
    "import matplotlib.animation as animation\n",
    "from mpl_toolkits.mplot3d import Axes3D\n",
    "# ---------------------------------------------------------------------------------------------------------\n",
    "# Change Parameters here\n",
    "# ---------------------------------------------------------------------------------------------------------\n",
    "\n",
    "N = 150 # Meshsize\n",
    "zmax = 50 # maximum value of z\n",
    "w0 = 0.001 # Waist of beam\n",
    "E0 = 0.05 #Energy Amplitude\n",
    "k = 2*np.pi/(632*(10**-9)) #Wave Number\n",
    "Raylen = np.pi*(w0**2)/(632*(10**-9)) #Rayleigh Length\n",
    "eta = 377 #Wave Impedance\n",
    "\n",
    "#----------------------------------------------------------------------------------------------------------\n",
    "#Functions that control wave\n",
    "#----------------------------------------------------------------------------------------------------------\n",
    "\n",
    "x = np.linspace(-0.004,0.004,N+1)\n",
    "x, y = np.meshgrid(x, x)\n",
    "zarray = np.zeros((N+1, N+1, zmax))\n",
    "\n",
    "def w(z) : return np.sqrt((w0**2)*(1+(z/Raylen)**2))\n",
    "\n",
    "def r(x,y) : return np.sqrt(x**2 + y**2)\n",
    "\n",
    "def R(z) : return z + ((Raylen**2)/z)\n",
    "\n",
    "def a(w,r) : return (E0*w0/w)*np.exp(-(r**2)/(w**2))\n",
    "\n",
    "def b(r,R) : return np.exp(-1j*k*(r**2)/(2*R))\n",
    "\n",
    "def c(z) : return np.exp(-1j*(k*z) +1j*np.arctan(z/Raylen))\n",
    "\n",
    "def update_plot(frame_number, zarray, plot):\n",
    "    plot[0].remove()\n",
    "    plot[0] = ax.plot_surface(x, y, zarray[:,:,frame_number], cmap=\"hot\")\n",
    "    \n",
    "# ---------------------------------------------------------------------------------------------------------\n",
    "# Plot functions\n",
    "# ---------------------------------------------------------------------------------------------------------\n",
    "\n",
    "for i in range(1,zmax):\n",
    "    zarray[:,:,i] = (10**6)*(a(w(i),r(x,y))*b(r(x,y),R(i))*c(i)*np.conj(a(w(i),r(x,y))*b(r(x,y),R(i))*c(i)))/(2*eta)\n",
    "\n",
    "fig = plt.figure()\n",
    "ax = fig.add_subplot(111, projection='3d')\n",
    "ax.set_zlabel(r\"$Intensity[10^-6]\\ (W/m^2)$\", fontsize=8)\n",
    "ax.set_xlabel(r\"$x axis$\", fontsize=8)\n",
    "ax.set_ylabel(r\"$y axis$\", fontsize=8)\n",
    "ax.set_title(r\"Gaussian propogation\")\n",
    "\n",
    "plot = [ax.plot_surface(x, y, zarray[:,:,0], color='0.75', rstride=1, cstride=1)]\n",
    "ax.set_zlim(0,np.max(zarray))\n",
    "ani = animation.FuncAnimation(fig, update_plot, zmax, fargs=(zarray, plot), interval=1)\n",
    "\n",
    "# ---------------------------------------------------------------------------------------------------------"
   ]
  }
 ],
 "metadata": {
  "interpreter": {
   "hash": "ecf5722fdaf1897a315d257d89d94520bfcaa453217d5becf09b39e73618b0de"
  },
  "kernelspec": {
   "display_name": "Python 3",
   "language": "python",
   "name": "python3"
  },
  "language_info": {
   "codemirror_mode": {
    "name": "ipython",
    "version": 3
   },
   "file_extension": ".py",
   "mimetype": "text/x-python",
   "name": "python",
   "nbconvert_exporter": "python",
   "pygments_lexer": "ipython3",
   "version": "3.7.4"
  }
 },
 "nbformat": 4,
 "nbformat_minor": 4
}
